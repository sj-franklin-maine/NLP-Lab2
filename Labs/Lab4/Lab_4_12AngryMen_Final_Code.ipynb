{
  "nbformat": 4,
  "nbformat_minor": 0,
  "metadata": {
    "colab": {
      "provenance": []
    },
    "kernelspec": {
      "name": "python3",
      "display_name": "Python 3"
    },
    "language_info": {
      "name": "python"
    }
  },
  "cells": [
    {
      "cell_type": "markdown",
      "source": [
        "# Step 1 and 2: Extracting Sentences and Pre-processing Input"
      ],
      "metadata": {
        "id": "Tnq20FdR6P00"
      }
    },
    {
      "cell_type": "code",
      "source": [
        "from google.colab import drive\n",
        "drive.mount('/content/drive')"
      ],
      "metadata": {
        "id": "BAkjXP9frh4d",
        "outputId": "2b041e56-a0e4-406a-f7c0-b5adc9cf9c08",
        "colab": {
          "base_uri": "https://localhost:8080/"
        }
      },
      "execution_count": null,
      "outputs": [
        {
          "output_type": "stream",
          "name": "stdout",
          "text": [
            "Mounted at /content/drive\n"
          ]
        }
      ]
    },
    {
      "cell_type": "code",
      "execution_count": 37,
      "metadata": {
        "id": "Mmx7uy3RfDMm",
        "colab": {
          "base_uri": "https://localhost:8080/"
        },
        "outputId": "4e1d7103-e16b-4c9d-afd1-dce2accd44fe"
      },
      "outputs": [
        {
          "output_type": "stream",
          "name": "stderr",
          "text": [
            "[nltk_data] Downloading package punkt to /root/nltk_data...\n",
            "[nltk_data]   Package punkt is already up-to-date!\n"
          ]
        }
      ],
      "source": [
        "import re\n",
        "from collections import Counter\n",
        "import nltk\n",
        "from nltk.tokenize import word_tokenize\n",
        "nltk.download('punkt')\n",
        "\n",
        "def extract_sentences(pattern, file_path):\n",
        "  # pattern:   is the regular expression you have defined to extract sentences\n",
        "  # file_path: path to the transcript file \n",
        "\n",
        "  # key: Juror   value: sentences said\n",
        "\n",
        "  dictionary_lines = {}\n",
        "\n",
        "  with open(file_path, 'r', encoding=\"unicode_escape\") as file:\n",
        "    line = file.readline()\n",
        "    while(line):\n",
        "      # NOTE: working with 1164 lines TOTAL (before searching for Juror lines)\n",
        "      # Checks each line to see if it matches our pattern\n",
        "      #  and adds juror and their lines to dictionary\n",
        "\n",
        "      # Search for a match of our regex pattern on this line\n",
        "      match = re.search(pattern, line)\n",
        "      # If match is found\n",
        "      if(match):\n",
        "        # Get the last group result (which has our string after the pattern)\n",
        "        #  and separate our juror name from their line\n",
        "        pairs = re.split(pattern, line)[6].split(\" \", 1)\n",
        "\n",
        "        # If we have a juror name AND a line\n",
        "        if(len(pairs) > 1):\n",
        "          # Get our juror\n",
        "          juror = match.group()\n",
        "          # Remove the word \"Juror\" from the first 12 lines\n",
        "          juror = re.sub('(?i)(^(juror)+)', '', juror, flags = re.IGNORECASE).replace(\" \", \"\")\n",
        "          # Get our sentence\n",
        "          sentence = pairs[1]\n",
        "           \n",
        "          # If this juror isn't in our dictionary\n",
        "          if(juror not in dictionary_lines):\n",
        "            # Add the juror and a list item to hold lines\n",
        "            dictionary_lines[juror] = []\n",
        "\n",
        "          # Add this line to the juror's key\n",
        "          dictionary_lines[juror].append(sentence)\n",
        "\n",
        "      # Read the next line\n",
        "      line = file.readline()\n",
        "\n",
        "  # Uncomment to check content of juror lines\n",
        "  #print(dictionary_lines['FOREMAN'])\n",
        "\n",
        "  # Printing the number of sentences said by each juror (just for checking)\n",
        "  for juror in dictionary_lines:\n",
        "    print(juror + \"\\t\" + str(len(dictionary_lines[juror])))\n",
        "  \n",
        "  return dictionary_lines\n",
        "\n",
        "def pre_process_inputs(dictionary_lines):\n",
        "  # This method takes in the dictionary from previous method\n",
        "  # It will return two dictionaries: one having all the tokens along\n",
        "  # with their frequencies (list to counter?)\n",
        "  # The other dictionary will have juror as the key (e.g., NO.2)\n",
        "  # and the values are another dictionary of {token: frequency} for each juror\n",
        "  \n",
        "  lst_all_words = []\n",
        "  dictionary_juror_words = {}\n",
        "  for juror in dictionary_lines:\n",
        "    # Here update all the words list and the dictionary for each juror\n",
        "    lst_of_sentences_by_juror = dictionary_lines[juror]\n",
        "    words_per_juror = []\n",
        "    for sentence in lst_of_sentences_by_juror:\n",
        "      # Filter the sentence to remove unnecessary characters\n",
        "      #  and convert words to lowercase\n",
        "      tokenizer = nltk.RegexpTokenizer(r'\\w+')\n",
        "      for word in tokenizer.tokenize(sentence):\n",
        "        words_per_juror.append(word.lower())\n",
        "      \n",
        "    # Add our found words from the juror to our list of all words  \n",
        "    lst_all_words.extend(words_per_juror)\n",
        "    # Also add all of the jurors words to our dictionary\n",
        "    dictionary_juror_words[juror] = dict(Counter(words_per_juror))\n",
        "\n",
        "  vocabulary = dict(Counter(lst_all_words))\n",
        "  #del vocabulary['1s']\n",
        "  #print(len(vocabulary))\n",
        "  #print(vocabulary)\n",
        "  return vocabulary, dictionary_juror_words"
      ]
    },
    {
      "cell_type": "markdown",
      "source": [
        "# Step 3: Building a Uni-gram language model with add-one smooting"
      ],
      "metadata": {
        "id": "3e1aI-Eovkpv"
      }
    },
    {
      "cell_type": "code",
      "source": [
        "from collections import Counter\n",
        "\n",
        "def unigram_lm(dic_vocabulary, dic_juror_words):\n",
        "  # This method will generate the unigram language model for each juror\n",
        "  # The return value is a dict with juror as key and value as his language model\n",
        "  # the inputs are the two dictionaries from pre_process_inputs method\n",
        "  dic_unigram_lm = {}\n",
        "\n",
        "  for juror in dic_juror_words:\n",
        "    dic_words_frequency = dic_juror_words[juror]\n",
        "    language_model = {key: 0 for key in dic_vocabulary}\n",
        "    juror_vocabulary_total = sum(dic_words_frequency.values())\n",
        "    total_words = len(language_model)\n",
        "    # Here you will calculate the probabilities with MLE and add-one smoothing\n",
        "    for key in language_model:\n",
        "      count = dic_words_frequency.get(key, 0)\n",
        "      language_model[key] = float(count + 1)/float(total_words + juror_vocabulary_total + 1)\n",
        "      \n",
        "    dic_unigram_lm[juror] = language_model\n",
        "\n",
        "  #print(dic_unigram_lm)\n",
        "  return dic_unigram_lm"
      ],
      "metadata": {
        "id": "GuzmtTCDfY-p"
      },
      "execution_count": 38,
      "outputs": []
    },
    {
      "cell_type": "markdown",
      "source": [
        "# Step 4: Generate T-SNE plot"
      ],
      "metadata": {
        "id": "uCWp1nNQ6auL"
      }
    },
    {
      "cell_type": "code",
      "source": [
        "from sklearn.manifold import TSNE\n",
        "import numpy as np\n",
        "import matplotlib.pyplot as plt\n",
        "import numpy as np\n",
        "\n",
        "\n",
        "def tsne_generator(dic_unigram_lm):\n",
        "  tsne = TSNE(n_components=2, random_state=0)\n",
        "  lst_freq = []\n",
        "  lst_names = []\n",
        "  \n",
        "  for juror in dic_unigram_lm:\n",
        "    lst_names.append(juror)\n",
        "    \n",
        "    # frequencies is a dictionary of token: frequencies\n",
        "    # sort this by key and then convert values to the list and append it \n",
        "    # to the lst_freq\n",
        "    frequencies = dic_unigram_lm[juror]\n",
        "    # Sort the dictionary by key and store the sorted items in a list\n",
        "    sorted_frequencies = dict(sorted(frequencies.items()))\n",
        "    freq = list(sorted_frequencies.values())\n",
        "    lst_freq.append(freq)\n",
        "  \n",
        "  # Convert the list to a NumPy array\n",
        "  np_array = np.array(lst_freq)\n",
        "  data = np_array\n",
        "\n",
        "  # getting vectors with tsne\n",
        "  vectors = tsne.fit_transform(data)\n",
        "\n",
        "  # Some codes here to define what to be shown\n",
        "  fig, ax = plt.subplots()\n",
        "  plt.scatter(vectors[:, 0], vectors[:, 1])\n",
        "\n",
        "  for i in range(len(vectors)):\n",
        "    plt.annotate(lst_names[i], xy=(vectors[i, 0], vectors[i, 1]))\n",
        "\n",
        "  # making sure the legend is shown (uncomment)\n",
        "  ax.legend(bbox_to_anchor=(1.1, 1.05))\n",
        "  ax.grid(True)\n",
        "  plt.show()\n",
        "  plt.savefig(\"my_plot.png\")"
      ],
      "metadata": {
        "id": "hhI1F1QQ6eDS"
      },
      "execution_count": 64,
      "outputs": []
    },
    {
      "cell_type": "markdown",
      "source": [
        "Block for running all code:"
      ],
      "metadata": {
        "id": "W9_YfVYRv3dB"
      }
    },
    {
      "cell_type": "code",
      "source": [
        "pattern = '(?:(?i)(^(foreman)+)|(^((juror )*[NO]+[\\.]\\ *[0-9][0-9]*)))'\n",
        "path = \"/content/12AngryMen.txt\";\n",
        "dic1 = extract_sentences(pattern, path)\n",
        "dic2, dic3 = pre_process_inputs(dic1)\n",
        "dic4 = unigram_lm(dic2, dic3)\n",
        "tsne_generator(dic4)"
      ],
      "metadata": {
        "colab": {
          "base_uri": "https://localhost:8080/",
          "height": 603
        },
        "id": "hcXB_d6TiViv",
        "outputId": "0d287837-a37a-467c-900d-4eb7012d9dff"
      },
      "execution_count": 65,
      "outputs": [
        {
          "output_type": "stream",
          "name": "stderr",
          "text": [
            "/usr/local/lib/python3.8/dist-packages/sklearn/manifold/_t_sne.py:780: FutureWarning: The default initialization in TSNE will change from 'random' to 'pca' in 1.2.\n",
            "  warnings.warn(\n",
            "/usr/local/lib/python3.8/dist-packages/sklearn/manifold/_t_sne.py:790: FutureWarning: The default learning rate in TSNE will change from 200.0 to 'auto' in 1.2.\n",
            "  warnings.warn(\n",
            "WARNING:matplotlib.legend:No artists with labels found to put in legend.  Note that artists whose label start with an underscore are ignored when legend() is called with no argument.\n"
          ]
        },
        {
          "output_type": "stream",
          "name": "stdout",
          "text": [
            "FOREMAN\t53\n",
            "NO.2\t23\n",
            "NO.3\t94\n",
            "NO.4\t33\n",
            "NO.5\t30\n",
            "NO.6\t19\n",
            "NO.7\t41\n",
            "NO.8\t93\n",
            "NO.9\t20\n",
            "NO.10\t37\n",
            "NO.11\t23\n",
            "NO.12\t14\n"
          ]
        },
        {
          "output_type": "display_data",
          "data": {
            "text/plain": [
              "<Figure size 432x288 with 1 Axes>"
            ],
            "image/png": "[encoded data removed]"
          },
          "metadata": {
            "needs_background": "light"
          }
        },
        {
          "output_type": "display_data",
          "data": {
            "text/plain": [
              "<Figure size 432x288 with 0 Axes>"
            ]
          },
          "metadata": {}
        }
      ]
    }
  ]
}