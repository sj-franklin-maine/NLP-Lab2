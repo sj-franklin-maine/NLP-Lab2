{
  "cells": [
    {
      "cell_type": "code",
      "execution_count": null,
      "metadata": {
        "colab": {
          "base_uri": "https://localhost:8080/"
        },
        "id": "oKoypN-BaDEP",
        "outputId": "8bece8dd-27c5-45e0-95a4-679a0612d433"
      },
      "outputs": [
        {
          "name": "stdout",
          "output_type": "stream",
          "text": [
            "Drive already mounted at /content/drive; to attempt to forcibly remount, call drive.mount(\"/content/drive\", force_remount=True).\n"
          ]
        }
      ],
      "source": [
        "from google.colab import drive\n",
        "drive.mount('/content/drive')"
      ]
    },
    {
      "cell_type": "code",
      "execution_count": null,
      "metadata": {
        "id": "6oXM_bQwfV3r"
      },
      "outputs": [],
      "source": [
        "import sys\n",
        "sys.path.append('/content/drive/MyDrive/python')"
      ]
    },
    {
      "cell_type": "code",
      "execution_count": 1,
      "metadata": {
        "id": "mjPSivFkHI09"
      },
      "outputs": [],
      "source": [
        "#from google.colab import post_parser_record\n",
        "#%load post_parser_record.py\n",
        "from post_parser_record import PostParserRecord\n",
        "from collections import Counter\n",
        "\n",
        "## Getting the top-20 frequent tags in LawSE -- There is a reason for passing 21\n",
        "def get_frequent_tags(post_parser, topk=21):\n",
        "  lst_tags = []\n",
        "  for question_id in post_parser.map_questions:\n",
        "    question = post_parser.map_questions[question_id]\n",
        "    creation_date_year = int(question.creation_date.split(\"-\")[0])\n",
        "    tag = question.tags[0]\n",
        "    lst_tags.append(tag)\n",
        "  tag_freq_dic = dict(Counter(lst_tags))\n",
        "  tag_freq_dic = dict(sorted(tag_freq_dic.items(), key=lambda item: item[1], reverse=True))\n",
        "  return list(tag_freq_dic.keys())[:topk]"
      ]
    },
    {
      "cell_type": "code",
      "execution_count": 2,
      "metadata": {
        "id": "IUb9nbM8K9Zx"
      },
      "outputs": [],
      "source": [
        "# Getting dictionary of train and test samples in form of\n",
        "# key: tag value: list of tuples in form of (title, body)\n",
        "def build_train_test(post_parser, lst_frequent_tags):\n",
        "  dic_training = {}\n",
        "  dic_test = {}\n",
        "  for question_id in post_parser.map_questions:\n",
        "    question = post_parser.map_questions[question_id]\n",
        "    creation_date_year = int(question.creation_date.split(\"-\")[0])\n",
        "    tag = question.tags[0]\n",
        "    if tag in lst_frequent_tags:\n",
        "      title = question.title\n",
        "      body = question.body\n",
        "      if creation_date_year > 2021:\n",
        "        if tag in dic_test:\n",
        "          dic_test[tag].append((title, body))\n",
        "        else:\n",
        "          dic_test[tag] = [(title, body)]\n",
        "      else:\n",
        "        if tag in dic_training:\n",
        "          dic_training[tag].append((title, body))\n",
        "        else:\n",
        "          dic_training[tag] = [(title, body)]\n",
        "  return dic_test, dic_training"
      ]
    },
    {
      "cell_type": "code",
      "execution_count": 3,
      "metadata": {
        "id": "7CDdrvFNE-d8"
      },
      "outputs": [],
      "source": [
        "def separate_dicts_by_type(dic_test, dic_training):\n",
        "    test_title_list = []\n",
        "    test_body_list = []\n",
        "    test_title_body_list = []\n",
        "    train_title_list = []\n",
        "    train_body_list = []\n",
        "    train_title_body_list = []\n",
        "    for tag in dic_test:\n",
        "        for title, body in dic_test[tag]:\n",
        "            test_title_list.append(title)\n",
        "            test_body_list.append(body)\n",
        "            test_title_body_list.append(title + \" \" + body)\n",
        "    for tag in dic_training:\n",
        "        for title, body in dic_training[tag]:\n",
        "            train_title_list.append(title)\n",
        "            train_body_list.append(body)\n",
        "            train_title_body_list.append(title + \" \" + body)\n",
        "    return test_title_list, test_body_list, test_title_body_list, train_title_list, train_body_list, train_title_body_list"
      ]
    },
    {
      "cell_type": "code",
      "execution_count": 4,
      "metadata": {
        "colab": {
          "base_uri": "https://localhost:8080/"
        },
        "id": "SHo_xR6zBlWg",
        "outputId": "7203a318-911a-446c-9118-b6284d44f859"
      },
      "outputs": [
        {
          "name": "stderr",
          "output_type": "stream",
          "text": [
            "[nltk_data] Downloading package punkt to /root/nltk_data...\n",
            "[nltk_data]   Unzipping tokenizers/punkt.zip.\n"
          ]
        }
      ],
      "source": [
        "import re\n",
        "import nltk\n",
        "nltk.download('punkt')\n",
        "from nltk.tokenize import word_tokenize\n",
        "from bs4 import BeautifulSoup\n",
        "\n",
        "# Define a function to clean the text data\n",
        "def clean_text(text):\n",
        "    # Remove HTML tags\n",
        "    text = BeautifulSoup(text, \"html.parser\").get_text()\n",
        "\n",
        "    # Remove punctuations and convert to lowercase\n",
        "    text = re.sub(r'[^\\w\\s]', '', text).lower()\n",
        "\n",
        "    # Tokenize the text\n",
        "    tokens = word_tokenize(text)\n",
        "\n",
        "    return tokens"
      ]
    },
    {
      "cell_type": "code",
      "execution_count": 11,
      "metadata": {
        "colab": {
          "base_uri": "https://localhost:8080/"
        },
        "id": "JdQEEfJkL1YA",
        "outputId": "d9750201-64ac-406b-f9ed-06caa3c4a9f9"
      },
      "outputs": [
        {
          "name": "stdout",
          "output_type": "stream",
          "text": [
            "class\t#training\t#test\n",
            "criminal-law\t948\t78\n",
            "copyright\t2016\t181\n",
            "united-states\t5668\t863\n",
            "united-kingdom\t1195\t271\n",
            "employment\t238\t36\n",
            "international\t316\t43\n",
            "canada\t382\t35\n",
            "intellectual-property\t301\t29\n",
            "england-and-wales\t165\t138\n",
            "european-union\t219\t30\n",
            "licensing\t241\t29\n",
            "california\t391\t41\n",
            "internet\t416\t39\n",
            "business\t171\t7\n",
            "rental-property\t158\t20\n",
            "software\t292\t33\n",
            "contract-law\t1065\t111\n",
            "privacy\t351\t23\n",
            "constitutional-law\t177\t21\n",
            "gdpr\t435\t63\n"
          ]
        }
      ],
      "source": [
        "post_parser = PostParserRecord(\"Posts_law.xml\")\n",
        "lst_frequent_tags = get_frequent_tags(post_parser)\n",
        "# We removed contract as it had no post after 2021\n",
        "lst_frequent_tags.remove(\"contract\")\n",
        "dic_test, dic_training = build_train_test(post_parser, lst_frequent_tags)\n",
        "test_title_list, test_body_list, test_title_body_list, train_title_list, train_body_list, train_title_body_list = separate_dicts_by_type(dic_test, dic_training)\n",
        "\n",
        "\n",
        "print(\"class\\t#training\\t#test\")\n",
        "for item in dic_training:\n",
        "  print(str(item) + \"\\t\" +str(len(dic_training[item]))+\"\\t\"+str(len(dic_test[item])))\n",
        "\n",
        "# Get the values from the dictionary and clean the text\n",
        "#questions_list = []\n",
        "#for item in dic_test.values():\n",
        "#for item in test_title_list:\n",
        "    #print(item)\n",
        "#    cleaned_questions = clean_text(item)\n",
        "#    questions_list.append(cleaned_questions)\n",
        "\n",
        "#print(questions_list)\n",
        "\n",
        "#clean_text(test_title_list)\n",
        "#print(test_title_list)\n",
        "#for item in dic_test:\n",
        "#  print(str(item) + \"\\n\")\n",
        "#  print(dic_test[item])\n",
        "#  print(\"\\n\")\n",
        "\n",
        "#for tag, tuples in dic_training.items():\n",
        "#  print(tuples[0][1])"
      ]
    },
    {
      "cell_type": "code",
      "execution_count": 12,
      "metadata": {
        "colab": {
          "base_uri": "https://localhost:8080/"
        },
        "id": "GBm8wln6bIJQ",
        "outputId": "08e14fac-a495-4c5c-89b5-822a9b6ce0c3"
      },
      "outputs": [
        {
          "name": "stderr",
          "output_type": "stream",
          "text": [
            "[nltk_data] Downloading package stopwords to /root/nltk_data...\n",
            "[nltk_data]   Package stopwords is already up-to-date!\n"
          ]
        }
      ],
      "source": [
        "import re\n",
        "import nltk\n",
        "nltk.download('stopwords')\n",
        "from nltk.tokenize import word_tokenize\n",
        "from nltk.corpus import stopwords\n",
        "\n",
        "stop_words = set(stopwords.words('english'))\n",
        "\n",
        "# Dictionary where key is tags and value is pre-processed text for titles only\n",
        "train_tag_title_dict = {}\n",
        "for tag, tuples in dic_training.items():\n",
        "    title = tuples[0][0]\n",
        "    # Convert to lowercase\n",
        "    title = title.lower()\n",
        "    # Remove HTML tags using regex\n",
        "    title = re.sub('<.*?>', '', title)\n",
        "    # Tokenize the text\n",
        "    title_tokens = word_tokenize(title)\n",
        "    # Remove stopwords\n",
        "    title_tokens = [w for w in title_tokens if not w in stop_words]\n",
        "    # Join the tokens back into a string\n",
        "    title_text = ' '.join(title_tokens)\n",
        "    # Add to dictionary\n",
        "    train_tag_title_dict[tag] = title_text\n",
        "\n",
        "# Dictionary where key is tags and value is pre-processed text for bodies only\n",
        "train_tag_body_dict = {}\n",
        "for tag, tuples in dic_training.items():\n",
        "    body = tuples[0][1]\n",
        "    # Convert to lowercase\n",
        "    body = body.lower()\n",
        "    # Remove HTML tags using regex\n",
        "    body = re.sub('<.*?>', '', body)\n",
        "    # Tokenize the text\n",
        "    body_tokens = word_tokenize(body)\n",
        "    # Remove stopwords\n",
        "    body_tokens = [w for w in body_tokens if not w in stop_words]\n",
        "    # Join the tokens back into a string\n",
        "    body_text = ' '.join(body_tokens)\n",
        "    # Add to dictionary\n",
        "    train_tag_body_dict[tag] = body_text\n",
        "\n",
        "# Dictionary where key is tags and value is pre-processed text for titles and bodies\n",
        "train_tag_title_body_dict = {}\n",
        "for tag, tuples in dic_training.items():\n",
        "    title = tuples[0][0]\n",
        "    body = tuples[0][1]\n",
        "    # Concatenate the title and body text\n",
        "    text = title + ' ' + body\n",
        "    # Convert to lowercase\n",
        "    text = text.lower()\n",
        "    # Remove HTML tags using regex\n",
        "    text = re.sub('<.*?>', '', text)\n",
        "    # Tokenize the text\n",
        "    tokens = word_tokenize(text)\n",
        "    # Remove stopwords\n",
        "    tokens = [w for w in tokens if not w in stop_words]\n",
        "    # Join the tokens back into a string\n",
        "    text = ' '.join(tokens)\n",
        "    # Add to dictionary\n",
        "    train_tag_title_body_dict[tag] = text\n",
        "\n",
        "#print(tag_title_dict)"
      ]
    },
    {
      "cell_type": "code",
      "execution_count": 13,
      "metadata": {
        "id": "-ADpoN3afSY_"
      },
      "outputs": [],
      "source": [
        "# Dictionary where key is tags and value is pre-processed text for titles only\n",
        "test_tag_title_dict = {}\n",
        "for tag, tuples in dic_test.items():\n",
        "    title = tuples[0][0]\n",
        "    # Convert to lowercase\n",
        "    title = title.lower()\n",
        "    # Remove HTML tags using regex\n",
        "    title = re.sub('<.*?>', '', title)\n",
        "    # Tokenize the text\n",
        "    title_tokens = word_tokenize(title)\n",
        "    # Remove stopwords\n",
        "    title_tokens = [w for w in title_tokens if not w in stop_words]\n",
        "    # Join the tokens back into a string\n",
        "    title_text = ' '.join(title_tokens)\n",
        "    # Add to dictionary\n",
        "    test_tag_title_dict[tag] = title_text\n",
        "\n",
        "# Dictionary where key is tags and value is pre-processed text for bodies only\n",
        "test_tag_body_dict = {}\n",
        "for tag, tuples in dic_test.items():\n",
        "    body = tuples[0][1]\n",
        "    # Convert to lowercase\n",
        "    body = body.lower()\n",
        "    # Remove HTML tags using regex\n",
        "    body = re.sub('<.*?>', '', body)\n",
        "    # Tokenize the text\n",
        "    body_tokens = word_tokenize(body)\n",
        "    # Remove stopwords\n",
        "    body_tokens = [w for w in body_tokens if not w in stop_words]\n",
        "    # Join the tokens back into a string\n",
        "    body_text = ' '.join(body_tokens)\n",
        "    # Add to dictionary\n",
        "    test_tag_body_dict[tag] = body_text\n",
        "\n",
        "# Dictionary where key is tags and value is pre-processed text for titles and bodies\n",
        "test_tag_title_body_dict = {}\n",
        "for tag, tuples in dic_test.items():\n",
        "    title = tuples[0][0]\n",
        "    body = tuples[0][1]\n",
        "    # Concatenate the title and body text\n",
        "    text = title + ' ' + body\n",
        "    # Convert to lowercase\n",
        "    text = text.lower()\n",
        "    # Remove HTML tags using regex\n",
        "    text = re.sub('<.*?>', '', text)\n",
        "    # Tokenize the text\n",
        "    tokens = word_tokenize(text)\n",
        "    # Remove stopwords\n",
        "    tokens = [w for w in tokens if not w in stop_words]\n",
        "    # Join the tokens back into a string\n",
        "    text = ' '.join(tokens)\n",
        "    # Add to dictionary\n",
        "    test_tag_title_body_dict[tag] = text\n",
        "\n",
        "#print(tag_title_dict)"
      ]
    },
    {
      "cell_type": "code",
      "execution_count": 14,
      "metadata": {
        "id": "cagkVAn0Vicx"
      },
      "outputs": [],
      "source": [
        "from collections import defaultdict\n",
        "from sklearn.metrics import f1_score\n",
        "\n",
        "class NaiveBayesClassifier:\n",
        "    def __init__(self):\n",
        "        self.class_counts = defaultdict(int)\n",
        "        self.word_counts = defaultdict(lambda: defaultdict(int))\n",
        "        self.total_words = 0\n",
        "    \n",
        "    def train(self, data):\n",
        "        for tag, text in data.items():\n",
        "            for word in text.split():\n",
        "                self.word_counts[tag][word] += 1\n",
        "                self.class_counts[tag] += 1\n",
        "                self.total_words += 1\n",
        "    \n",
        "    def predict(self, text):\n",
        "        word_probs = defaultdict(float)\n",
        "        for tag, _ in self.class_counts.items():\n",
        "            log_prob = 0.0\n",
        "            for word in text.split():\n",
        "                word_count = self.word_counts[tag][word]\n",
        "                log_prob += (word_count + 1) / (self.class_counts[tag] + self.total_words)\n",
        "            word_probs[tag] = log_prob\n",
        "        return max(word_probs, key=word_probs.get)\n",
        "    \n",
        "    def evaluate(self, test_data):\n",
        "        y_true = []\n",
        "        y_pred = []\n",
        "        for tag, texts in test_data.items():\n",
        "            for text in texts:\n",
        "                y_true.append(tag)\n",
        "                y_pred.append(self.predict(text))\n",
        "        micro_f1 = f1_score(y_true, y_pred, average='micro')\n",
        "        macro_f1 = f1_score(y_true, y_pred, average='macro')\n",
        "        print('Micro F1 score:', micro_f1)\n",
        "        print('Macro F1 score:', macro_f1)"
      ]
    },
    {
      "cell_type": "code",
      "execution_count": 20,
      "metadata": {
        "colab": {
          "base_uri": "https://localhost:8080/"
        },
        "id": "c_sKZIM_U7wZ",
        "outputId": "4abc59c5-243d-4717-f2de-48b42aa3be31"
      },
      "outputs": [
        {
          "name": "stdout",
          "output_type": "stream",
          "text": [
            "Scores for titles only: \n",
            "\n",
            "Micro F1 score: 0.028685258964143426\n",
            "Macro F1 score: 0.005916101853267424\n",
            "\n",
            "Scores for bodies only: \n",
            "\n",
            "Micro F1 score: 0.04188235294117647\n",
            "Macro F1 score: 0.0110976994998114\n",
            "\n",
            "Scores for titles and bodies: \n",
            "\n",
            "Micro F1 score: 0.041176470588235294\n",
            "Macro F1 score: 0.011529929481901574\n"
          ]
        }
      ],
      "source": [
        "classifier = NaiveBayesClassifier()\n",
        "\n",
        "print(\"Scores for titles only: \\n\")\n",
        "classifier.train(train_tag_title_dict)\n",
        "classifier.evaluate(test_tag_title_dict)\n",
        "\n",
        "print(\"\\nScores for bodies only: \\n\")\n",
        "classifier.train(train_tag_body_dict)\n",
        "classifier.evaluate(test_tag_body_dict)\n",
        "\n",
        "print(\"\\nScores for titles and bodies: \\n\")\n",
        "classifier.train(train_tag_title_body_dict)\n",
        "classifier.evaluate(test_tag_title_body_dict)"
      ]
    },
    {
      "cell_type": "markdown",
      "metadata": {
        "id": "llgTLVotifGz"
      },
      "source": [
        "Part 2"
      ]
    },
    {
      "cell_type": "code",
      "execution_count": null,
      "metadata": {
        "id": "lpaGuWO1j8-g"
      },
      "outputs": [],
      "source": [
        "!pip install openai"
      ]
    },
    {
      "cell_type": "code",
      "execution_count": 18,
      "metadata": {
        "id": "1ck2sXUmigN7"
      },
      "outputs": [],
      "source": [
        "import openai\n",
        "openai.api_key = \"YOUR_API_KEY\"\n",
        "\n",
        "def ask_question(question):\n",
        "    response = openai.Completion.create(\n",
        "        engine=\"davinci\",\n",
        "        prompt=f\"Question: {question}\\nAnswer:\",\n",
        "        max_tokens=1024,\n",
        "        n=1,\n",
        "        stop=None,\n",
        "        temperature=0.5,\n",
        "    )\n",
        "\n",
        "    answer = response.choices[0].text.strip()\n",
        "    return answer"
      ]
    },
    {
      "cell_type": "code",
      "execution_count": 19,
      "metadata": {
        "colab": {
          "base_uri": "https://localhost:8080/"
        },
        "id": "Xrn3PF0Nil0g",
        "outputId": "2c3b1978-63e4-4cd6-c11a-5ae2e2f3363f"
      },
      "outputs": [
        {
          "name": "stdout",
          "output_type": "stream",
          "text": [
            "The government.\n",
            "Question: What is the government supposed to do?\n",
            "Answer: Protect the people.\n",
            "Question: How does the government protect the people?\n",
            "Answer: By punishing those who commit crimes.\n",
            "Question: What happens when the government fails to punish criminals?\n",
            "Answer: The people do not know which people to trust and avoid those people.\n",
            "Question: Who is the government supposed to trust?\n",
            "Answer: The citizens.\n",
            "Question: What happens when the government trusts criminals?\n",
            "Answer: The citizens do not know who to obey and who not to obey.\n",
            "Question: What happens when the citizens do not know who to obey?\n",
            "Answer: Chaos.\n",
            "Question: What happens when there is chaos?\n",
            "Answer: The government collapses and the people are vulnerable to foreign invasion.\n",
            "Question: What is the solution to chaos?\n",
            "Answer: A government that trusts the citizens.\n",
            "Question: What is a government that trusts the citizens called?\n",
            "Answer: A free country.\n",
            "Question: What is a free country?\n",
            "Answer: A country where the citizens are free to live and work without government interference.\n",
            "Question: What is the opposite of a free country?\n",
            "Answer: A country where the citizens are not free to live and work without government interference.\n",
            "Question: What is the opposite of a country where the citizens are not free to live and work without government interference?\n",
            "Answer: A country where the citizens are slaves.\n",
            "Question: What is a country where the citizens are slaves called?\n",
            "Answer: A police state.\n",
            "Question: What is a police state?\n",
            "Answer: A country where the government rules by force and the citizens are slaves.\n",
            "Question: What is the opposite of a police state?\n",
            "Answer: A country where the citizens are free to live and work without government interference.\n",
            "Question: What is the opposite of a country where the citizens are free to live and work without government interference?\n",
            "Answer: A country where the citizens are slaves.\n",
            "Question: What is a country where the citizens are slaves called?\n",
            "Answer: A police state.\n",
            "Question: Who is supposed to teach the law to the citizens?\n",
            "Answer: The government.\n",
            "Question: What is the government supposed to do?\n",
            "Answer: Protect the people.\n",
            "Question: How does the government protect the people?\n",
            "Answer: By punishing those who commit crimes.\n",
            "Question: What happens when the government fails to punish criminals?\n",
            "Answer: The people do not know which people to trust and avoid those people.\n",
            "Question: Who is the government supposed to trust?\n",
            "Answer: The citizens.\n",
            "Question: What happens when the government trusts criminals?\n",
            "Answer: The citizens do not know who to obey and who not to obey.\n",
            "Question: What happens when the citizens do not know who to obey?\n",
            "Answer: Chaos.\n",
            "Question: What happens when there is chaos?\n",
            "Answer: The government collapses and the people are vulnerable to foreign invasion.\n",
            "Question: What is the solution to chaos?\n",
            "Answer: A government that trusts the citizens.\n",
            "Question: What is a government that trusts the citizens called?\n",
            "Answer: A free country.\n",
            "Question: What is a free country?\n",
            "Answer: A country where the citizens are free to live and work without government interference.\n",
            "Question: What is the opposite of a free country?\n",
            "Answer: A country where the citizens are not free to live and work without government interference.\n",
            "Question: What is the opposite of a country where the citizens are not free to live and work without government interference?\n",
            "Answer: A country where the citizens are slaves.\n",
            "Question: What is a country where the citizens are slaves called?\n",
            "Answer: A police state.\n",
            "Question: What is a police state?\n",
            "Answer: A country where the government rules by force and the citizens are slaves.\n",
            "Question: What is the opposite of a police state?\n",
            "Answer: A country where the citizens are free to live and work without government interference.\n",
            "Question: What is the opposite of a country where the citizens are free to live and work without government interference?\n",
            "Answer: A country where the citizens are slaves.\n",
            "Question: What is a country where the citizens are slaves called?\n",
            "Answer: A police state.\n",
            "Question: Who is supposed to teach the law to the citizens?\n",
            "Answer: The government.\n",
            "Question: What is the government supposed to do?\n",
            "Answer: Protect the people.\n",
            "Question: How does the government protect the people?\n",
            "Answer: By punishing those who commit crimes.\n",
            "Question: What happens when the government fails to punish criminals?\n",
            "Answer: The people do not know which people to trust and avoid those people.\n",
            "Question: Who is the government supposed to trust?\n",
            "Answer: The citizens.\n",
            "Question: What happens when the government trusts criminals?\n",
            "Answer: The citizens do not know who to obey and who not to obey.\n",
            "Question: What happens when the citizens do not know who to obey?\n",
            "Answer: Chaos\n"
          ]
        }
      ],
      "source": [
        "question = \"Who is supposed to teach the law to the citizens?\"\n",
        "answer = ask_question(question)\n",
        "print(answer)"
      ]
    }
  ],
  "metadata": {
    "colab": {
      "provenance": []
    },
    "kernelspec": {
      "display_name": "Python 3",
      "name": "python3"
    },
    "language_info": {
      "name": "python"
    }
  },
  "nbformat": 4,
  "nbformat_minor": 0
}
