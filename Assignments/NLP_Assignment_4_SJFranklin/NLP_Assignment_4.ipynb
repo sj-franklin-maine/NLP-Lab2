{
  "nbformat": 4,
  "nbformat_minor": 0,
  "metadata": {
    "colab": {
      "provenance": []
    },
    "kernelspec": {
      "name": "python3",
      "display_name": "Python 3"
    },
    "language_info": {
      "name": "python"
    },
    "accelerator": "GPU",
    "gpuClass": "standard",
    "widgets": {
      "application/vnd.jupyter.widget-state+json": {
        "0552e0f187504da08bf8d227c6a6df5c": {
          "model_module": "@jupyter-widgets/controls",
          "model_name": "HBoxModel",
          "model_module_version": "1.5.0",
          "state": {
            "_dom_classes": [],
            "_model_module": "@jupyter-widgets/controls",
            "_model_module_version": "1.5.0",
            "_model_name": "HBoxModel",
            "_view_count": null,
            "_view_module": "@jupyter-widgets/controls",
            "_view_module_version": "1.5.0",
            "_view_name": "HBoxView",
            "box_style": "",
            "children": [
              "IPY_MODEL_918d999709cc48b6988caf4acb6fad08",
              "IPY_MODEL_fdb3493f54384fe0a288d461337ff25f",
              "IPY_MODEL_c654c7c2d42642449bdd2488e0c3c55b"
            ],
            "layout": "IPY_MODEL_c05179d23843433e94cfe5b88730c20f"
          }
        },
        "918d999709cc48b6988caf4acb6fad08": {
          "model_module": "@jupyter-widgets/controls",
          "model_name": "HTMLModel",
          "model_module_version": "1.5.0",
          "state": {
            "_dom_classes": [],
            "_model_module": "@jupyter-widgets/controls",
            "_model_module_version": "1.5.0",
            "_model_name": "HTMLModel",
            "_view_count": null,
            "_view_module": "@jupyter-widgets/controls",
            "_view_module_version": "1.5.0",
            "_view_name": "HTMLView",
            "description": "",
            "description_tooltip": null,
            "layout": "IPY_MODEL_29dcf99e7c71492e815c8f08a6e68ba3",
            "placeholder": "​",
            "style": "IPY_MODEL_64c73bc1d5264fc2a00f194fbfac9192",
            "value": "Batches: 100%"
          }
        },
        "fdb3493f54384fe0a288d461337ff25f": {
          "model_module": "@jupyter-widgets/controls",
          "model_name": "FloatProgressModel",
          "model_module_version": "1.5.0",
          "state": {
            "_dom_classes": [],
            "_model_module": "@jupyter-widgets/controls",
            "_model_module_version": "1.5.0",
            "_model_name": "FloatProgressModel",
            "_view_count": null,
            "_view_module": "@jupyter-widgets/controls",
            "_view_module_version": "1.5.0",
            "_view_name": "ProgressView",
            "bar_style": "success",
            "description": "",
            "description_tooltip": null,
            "layout": "IPY_MODEL_0f04b57762434244a568befcd648444e",
            "max": 756,
            "min": 0,
            "orientation": "horizontal",
            "style": "IPY_MODEL_6857c595afe04544b926bb48ea5f92fd",
            "value": 756
          }
        },
        "c654c7c2d42642449bdd2488e0c3c55b": {
          "model_module": "@jupyter-widgets/controls",
          "model_name": "HTMLModel",
          "model_module_version": "1.5.0",
          "state": {
            "_dom_classes": [],
            "_model_module": "@jupyter-widgets/controls",
            "_model_module_version": "1.5.0",
            "_model_name": "HTMLModel",
            "_view_count": null,
            "_view_module": "@jupyter-widgets/controls",
            "_view_module_version": "1.5.0",
            "_view_name": "HTMLView",
            "description": "",
            "description_tooltip": null,
            "layout": "IPY_MODEL_6574e971af4e4fa793579976752fbbeb",
            "placeholder": "​",
            "style": "IPY_MODEL_4e74b5a1eccf4374b7f68fefe594a7dc",
            "value": " 756/756 [00:13&lt;00:00, 90.72it/s]"
          }
        },
        "c05179d23843433e94cfe5b88730c20f": {
          "model_module": "@jupyter-widgets/base",
          "model_name": "LayoutModel",
          "model_module_version": "1.2.0",
          "state": {
            "_model_module": "@jupyter-widgets/base",
            "_model_module_version": "1.2.0",
            "_model_name": "LayoutModel",
            "_view_count": null,
            "_view_module": "@jupyter-widgets/base",
            "_view_module_version": "1.2.0",
            "_view_name": "LayoutView",
            "align_content": null,
            "align_items": null,
            "align_self": null,
            "border": null,
            "bottom": null,
            "display": null,
            "flex": null,
            "flex_flow": null,
            "grid_area": null,
            "grid_auto_columns": null,
            "grid_auto_flow": null,
            "grid_auto_rows": null,
            "grid_column": null,
            "grid_gap": null,
            "grid_row": null,
            "grid_template_areas": null,
            "grid_template_columns": null,
            "grid_template_rows": null,
            "height": null,
            "justify_content": null,
            "justify_items": null,
            "left": null,
            "margin": null,
            "max_height": null,
            "max_width": null,
            "min_height": null,
            "min_width": null,
            "object_fit": null,
            "object_position": null,
            "order": null,
            "overflow": null,
            "overflow_x": null,
            "overflow_y": null,
            "padding": null,
            "right": null,
            "top": null,
            "visibility": null,
            "width": null
          }
        },
        "29dcf99e7c71492e815c8f08a6e68ba3": {
          "model_module": "@jupyter-widgets/base",
          "model_name": "LayoutModel",
          "model_module_version": "1.2.0",
          "state": {
            "_model_module": "@jupyter-widgets/base",
            "_model_module_version": "1.2.0",
            "_model_name": "LayoutModel",
            "_view_count": null,
            "_view_module": "@jupyter-widgets/base",
            "_view_module_version": "1.2.0",
            "_view_name": "LayoutView",
            "align_content": null,
            "align_items": null,
            "align_self": null,
            "border": null,
            "bottom": null,
            "display": null,
            "flex": null,
            "flex_flow": null,
            "grid_area": null,
            "grid_auto_columns": null,
            "grid_auto_flow": null,
            "grid_auto_rows": null,
            "grid_column": null,
            "grid_gap": null,
            "grid_row": null,
            "grid_template_areas": null,
            "grid_template_columns": null,
            "grid_template_rows": null,
            "height": null,
            "justify_content": null,
            "justify_items": null,
            "left": null,
            "margin": null,
            "max_height": null,
            "max_width": null,
            "min_height": null,
            "min_width": null,
            "object_fit": null,
            "object_position": null,
            "order": null,
            "overflow": null,
            "overflow_x": null,
            "overflow_y": null,
            "padding": null,
            "right": null,
            "top": null,
            "visibility": null,
            "width": null
          }
        },
        "64c73bc1d5264fc2a00f194fbfac9192": {
          "model_module": "@jupyter-widgets/controls",
          "model_name": "DescriptionStyleModel",
          "model_module_version": "1.5.0",
          "state": {
            "_model_module": "@jupyter-widgets/controls",
            "_model_module_version": "1.5.0",
            "_model_name": "DescriptionStyleModel",
            "_view_count": null,
            "_view_module": "@jupyter-widgets/base",
            "_view_module_version": "1.2.0",
            "_view_name": "StyleView",
            "description_width": ""
          }
        },
        "0f04b57762434244a568befcd648444e": {
          "model_module": "@jupyter-widgets/base",
          "model_name": "LayoutModel",
          "model_module_version": "1.2.0",
          "state": {
            "_model_module": "@jupyter-widgets/base",
            "_model_module_version": "1.2.0",
            "_model_name": "LayoutModel",
            "_view_count": null,
            "_view_module": "@jupyter-widgets/base",
            "_view_module_version": "1.2.0",
            "_view_name": "LayoutView",
            "align_content": null,
            "align_items": null,
            "align_self": null,
            "border": null,
            "bottom": null,
            "display": null,
            "flex": null,
            "flex_flow": null,
            "grid_area": null,
            "grid_auto_columns": null,
            "grid_auto_flow": null,
            "grid_auto_rows": null,
            "grid_column": null,
            "grid_gap": null,
            "grid_row": null,
            "grid_template_areas": null,
            "grid_template_columns": null,
            "grid_template_rows": null,
            "height": null,
            "justify_content": null,
            "justify_items": null,
            "left": null,
            "margin": null,
            "max_height": null,
            "max_width": null,
            "min_height": null,
            "min_width": null,
            "object_fit": null,
            "object_position": null,
            "order": null,
            "overflow": null,
            "overflow_x": null,
            "overflow_y": null,
            "padding": null,
            "right": null,
            "top": null,
            "visibility": null,
            "width": null
          }
        },
        "6857c595afe04544b926bb48ea5f92fd": {
          "model_module": "@jupyter-widgets/controls",
          "model_name": "ProgressStyleModel",
          "model_module_version": "1.5.0",
          "state": {
            "_model_module": "@jupyter-widgets/controls",
            "_model_module_version": "1.5.0",
            "_model_name": "ProgressStyleModel",
            "_view_count": null,
            "_view_module": "@jupyter-widgets/base",
            "_view_module_version": "1.2.0",
            "_view_name": "StyleView",
            "bar_color": null,
            "description_width": ""
          }
        },
        "6574e971af4e4fa793579976752fbbeb": {
          "model_module": "@jupyter-widgets/base",
          "model_name": "LayoutModel",
          "model_module_version": "1.2.0",
          "state": {
            "_model_module": "@jupyter-widgets/base",
            "_model_module_version": "1.2.0",
            "_model_name": "LayoutModel",
            "_view_count": null,
            "_view_module": "@jupyter-widgets/base",
            "_view_module_version": "1.2.0",
            "_view_name": "LayoutView",
            "align_content": null,
            "align_items": null,
            "align_self": null,
            "border": null,
            "bottom": null,
            "display": null,
            "flex": null,
            "flex_flow": null,
            "grid_area": null,
            "grid_auto_columns": null,
            "grid_auto_flow": null,
            "grid_auto_rows": null,
            "grid_column": null,
            "grid_gap": null,
            "grid_row": null,
            "grid_template_areas": null,
            "grid_template_columns": null,
            "grid_template_rows": null,
            "height": null,
            "justify_content": null,
            "justify_items": null,
            "left": null,
            "margin": null,
            "max_height": null,
            "max_width": null,
            "min_height": null,
            "min_width": null,
            "object_fit": null,
            "object_position": null,
            "order": null,
            "overflow": null,
            "overflow_x": null,
            "overflow_y": null,
            "padding": null,
            "right": null,
            "top": null,
            "visibility": null,
            "width": null
          }
        },
        "4e74b5a1eccf4374b7f68fefe594a7dc": {
          "model_module": "@jupyter-widgets/controls",
          "model_name": "DescriptionStyleModel",
          "model_module_version": "1.5.0",
          "state": {
            "_model_module": "@jupyter-widgets/controls",
            "_model_module_version": "1.5.0",
            "_model_name": "DescriptionStyleModel",
            "_view_count": null,
            "_view_module": "@jupyter-widgets/base",
            "_view_module_version": "1.2.0",
            "_view_name": "StyleView",
            "description_width": ""
          }
        }
      }
    }
  },
  "cells": [
    {
      "cell_type": "markdown",
      "source": [
        "installing sentence BERT python library"
      ],
      "metadata": {
        "id": "FnOA8bKfqrCQ"
      }
    },
    {
      "cell_type": "code",
      "source": [
        "!pip install sentence_transformers"
      ],
      "metadata": {
        "id": "IFaexzUikgYg"
      },
      "execution_count": null,
      "outputs": []
    },
    {
      "cell_type": "markdown",
      "source": [
        "Reading the duplicate questions and xml file (Similar to Assignment-3)"
      ],
      "metadata": {
        "id": "0duVD5wYq89Y"
      }
    },
    {
      "cell_type": "code",
      "source": [
        "import csv\n",
        "from post_parser_record import PostParserRecord\n",
        "\n",
        "def read_tsv_test_data(file_path):\n",
        "  # Takes in the file path for test file and generate a dictionary\n",
        "  # of question id as the key and the list of question ids similar to it\n",
        "  # as value. It also returns the list of all question ids that have\n",
        "  # at least one similar question\n",
        "  dic_similar_questions = {}\n",
        "  lst_all_test = []\n",
        "  with open(file_path) as fd:\n",
        "    rd = csv.reader(fd, delimiter=\"\\t\", quotechar='\"')\n",
        "    for row in rd:\n",
        "        question_id = int(row[0])\n",
        "        lst_similar = list(map(int, row[1:]))\n",
        "        dic_similar_questions[question_id] = lst_similar\n",
        "        lst_all_test.append(question_id)\n",
        "        lst_all_test.extend(lst_similar)\n",
        "  return dic_similar_questions, lst_all_test\n",
        "\n",
        "dic_similar_questions, lst_all_test = read_tsv_test_data(\"duplicate_questions.tsv\")\n",
        "post_reader = PostParserRecord(\"Posts_law.xml\")"
      ],
      "metadata": {
        "id": "aiN_X-n2kuXh"
      },
      "execution_count": 4,
      "outputs": []
    },
    {
      "cell_type": "markdown",
      "source": [
        "Using pre-trained Quora duplicate question to encode questions and find similar questions"
      ],
      "metadata": {
        "id": "h4wVjhXKrEHr"
      }
    },
    {
      "cell_type": "code",
      "execution_count": 6,
      "metadata": {
        "id": "2g9emaNvjz6O",
        "colab": {
          "base_uri": "https://localhost:8080/",
          "height": 84,
          "referenced_widgets": [
            "0552e0f187504da08bf8d227c6a6df5c",
            "918d999709cc48b6988caf4acb6fad08",
            "fdb3493f54384fe0a288d461337ff25f",
            "c654c7c2d42642449bdd2488e0c3c55b",
            "c05179d23843433e94cfe5b88730c20f",
            "29dcf99e7c71492e815c8f08a6e68ba3",
            "64c73bc1d5264fc2a00f194fbfac9192",
            "0f04b57762434244a568befcd648444e",
            "6857c595afe04544b926bb48ea5f92fd",
            "6574e971af4e4fa793579976752fbbeb",
            "4e74b5a1eccf4374b7f68fefe594a7dc"
          ]
        },
        "outputId": "15d40201-adce-4aa7-8878-6a799e6c5709"
      },
      "outputs": [
        {
          "output_type": "display_data",
          "data": {
            "text/plain": [
              "Batches:   0%|          | 0/756 [00:00<?, ?it/s]"
            ],
            "application/vnd.jupyter.widget-view+json": {
              "version_major": 2,
              "version_minor": 0,
              "model_id": "0552e0f187504da08bf8d227c6a6df5c"
            }
          },
          "metadata": {}
        },
        {
          "output_type": "stream",
          "name": "stdout",
          "text": [
            "Average P@1: 0.0106\n",
            "Average MRR: 0.0053\n"
          ]
        }
      ],
      "source": [
        "from sentence_transformers import SentenceTransformer, util\n",
        "import torch\n",
        "\n",
        "# in question one, we are using the pre-trained model on quora with no further fine-tuning\n",
        "model_name = 'distilbert-base-nli-stsb-quora-ranking'\n",
        "model = SentenceTransformer(model_name)\n",
        "\n",
        "# list of text to be indexed (encoded)\n",
        "corpus = []\n",
        "# this dictionary is used as key: corpus index [0, 1, 2, ...] and value: corresponding question id\n",
        "index_to_question_id = {}\n",
        "idx = 0\n",
        "\n",
        "# indexing all the questions in the law stack exchange -- only using the question titles\n",
        "for question_id in post_reader.map_questions:\n",
        "  question = post_reader.map_questions[question_id]\n",
        "  text = question.title\n",
        "  q_id = question.post_id\n",
        "  corpus.append(text)\n",
        "  index_to_question_id[idx] = question_id\n",
        "  idx += 1\n",
        "\n",
        "# Indexing (embedding) the \n",
        "corpus_embeddings = model.encode(corpus, convert_to_tensor=True, show_progress_bar=True)\n",
        "\n",
        "lst_test_question_ids = list(dic_similar_questions.keys())\n",
        "top_k = 100\n",
        "\n",
        "# Initialize variables for P@1 and MRR\n",
        "total_p1 = 0\n",
        "total_mrr = 0\n",
        "num_questions = len(lst_test_question_ids)\n",
        "\n",
        "for question_id in lst_test_question_ids:\n",
        "  query_text = post_reader.map_questions[question_id].title\n",
        "  query_embedding = model.encode(query_text, convert_to_tensor=True)\n",
        "\n",
        "  # We use cosine-similarity and torch.topk to find the highest 5 scores\n",
        "  cos_scores = util.cos_sim(query_embedding, corpus_embeddings)[0]\n",
        "  top_results = torch.topk(cos_scores, k=top_k)\n",
        "\n",
        "  # Calculate P@1\n",
        "  top_result_ids = [index_to_question_id[int(idx)] for idx in top_results[1]]\n",
        "  if question_id in top_result_ids[:1]:\n",
        "    total_p1 += 1\n",
        "\n",
        "    # Calculate MRR\n",
        "  for rank, idx in enumerate(top_results[1]):\n",
        "    index = int(idx)\n",
        "    if question_id == index_to_question_id[index]:\n",
        "      total_mrr += 1.0 / (rank + 1)\n",
        "      break\n",
        "\n",
        "  for score, idx in zip(top_results[0], top_results[1]):\n",
        "    index = int(idx)\n",
        "    # printing question id and similarity score\n",
        "    # print(index_to_question_id[index], \"(Score: {:.4f})\".format(score))\n",
        "\n",
        "\n",
        "# Calculate average P@1 and MRR\n",
        "avg_p1 = (total_p1 / num_questions)\n",
        "avg_mrr = (total_mrr / num_questions)\n",
        "\n",
        "# Print the results\n",
        "print(\"Average P@1: {:.4f}\".format(avg_p1))\n",
        "print(\"Average MRR: {:.4f}\".format(avg_mrr))"
      ]
    },
    {
      "cell_type": "markdown",
      "source": [
        "Step 2: Fine-tune Sentence-BERT Model"
      ],
      "metadata": {
        "id": "D6PfPsFKUSiW"
      }
    },
    {
      "cell_type": "code",
      "source": [
        "import numpy as np\n",
        "from sklearn.metrics import accuracy_score, precision_score, recall_score, f1_score\n",
        "from sentence_transformers import SentenceTransformer, InputExample, losses\n",
        "\n",
        "# Load the pre-trained Sentence-BERT model\n",
        "model_name = 'bert-base-nli-mean-tokens'\n",
        "model = SentenceTransformer(model_name)\n",
        "\n",
        "# Split the training data into train and test sets\n",
        "split_ratio = 0.1\n",
        "split_index = int(len(train_data['sentences']) * split_ratio)\n",
        "train_sentences = train_data['sentences'][split_index:]\n",
        "train_labels = train_data['labels'][split_index:]\n",
        "test_sentences = train_data['sentences'][:split_index]\n",
        "test_labels = train_data['labels'][:split_index]\n",
        "\n",
        "# Define the optimizer, loss function, and any other hyperparameters\n",
        "optimizer = transformers.AdamW(model.parameters(), lr=2e-5)\n",
        "loss = losses.CosineSimilarityLoss()\n",
        "epochs = 5\n",
        "batch_size = 16\n",
        "\n",
        "# Convert the training and test data into InputExamples\n",
        "train_examples = [InputExample(texts=[train_sentences[i]], label=train_labels[i]) for i in range(len(train_sentences))]\n",
        "test_examples = [InputExample(texts=[test_sentences[i]], label=test_labels[i]) for i in range(len(test_sentences))]\n",
        "\n",
        "# Train the model on the training data and evaluate it on the test data\n",
        "for epoch in range(epochs):\n",
        "    train_dataloader = transformers.DataLoader(train_examples, batch_size=batch_size, shuffle=True)\n",
        "    test_dataloader = transformers.DataLoader(test_examples, batch_size=batch_size, shuffle=True)\n",
        "    model.train()\n",
        "    train_loss = 0\n",
        "    for step, batch in enumerate(train_dataloader):\n",
        "        features = model.encode(batch['texts'], convert_to_tensor=True)\n",
        "        labels = torch.tensor(batch['labels'], dtype=torch.float)\n",
        "        output = loss(features, labels)\n",
        "        train_loss += output.item()\n",
        "        output.backward()\n",
        "        optimizer.step()\n",
        "        optimizer.zero_grad()\n",
        "    train_loss /= (step + 1)\n",
        "    model.eval()\n",
        "    with torch.no_grad():\n",
        "        predictions = []\n",
        "        for step, batch in enumerate(test_dataloader):\n",
        "            features = model.encode(batch['texts'], convert_to_tensor=True)\n",
        "            labels = torch.tensor(batch['labels'], dtype=torch.float)\n",
        "            similarities = features @ features.T\n",
        "            similarities = similarities.cpu().numpy()\n",
        "            for i in range(similarities.shape[0]):\n",
        "                sorted_indices = np.argsort(similarities[i])[::-1]\n",
        "                predictions.append(sorted_indices[0])\n",
        "        test_accuracy = accuracy_score(test_labels, predictions)\n",
        "        test_precision = precision_score(test_labels, predictions)\n",
        "        test_recall = recall_score(test_labels, predictions)\n",
        "        test_f1_score = f1_score(test_labels, predictions)\n",
        "    # Compute P@1 and MRR\n",
        "    p_at_1 = 0\n",
        "    mrr = 0\n",
        "    for i in range(len(test_sentences)):\n",
        "        features = model.encode([test_sentences[i]], convert_to_tensor=True)\n",
        "        similarities = features @ features.T\n",
        "        similarities = similarities.cpu().numpy()\n",
        "        sorted_indices = np.argsort(similarities[0])[::-1]\n",
        "        if sorted_indices[0] == test_labels[i]:\n",
        "            p_at_1 += 1\n",
        "            mrr += 1 / (sorted_indices.tolist().index(test_labels[i]) + 1)\n",
        "    p_at_1 /= len(test_sentences)\n",
        "    mrr /= len(test_sentences)\n",
        "\n",
        "    print(f'Epoch {epoch + 1}: Train Loss = {train_loss:.4f}, Test Accuracy = {test_accuracy:.4f}, '\n",
        "          f'Test Precision = {test_precision:.4f}, Test Recall = {test_recall:.4f}, '\n",
        "          f'Test F1-Score = {test_f1_score:.4f}, P@1 = {p_at_1:.4f}, MRR = {mrr:.4f}')"
      ],
      "metadata": {
        "id": "S5hG14wOGQdH"
      },
      "execution_count": null,
      "outputs": []
    }
  ]
}